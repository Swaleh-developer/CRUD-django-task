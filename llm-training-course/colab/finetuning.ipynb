{
  "cells": [
    {
      "cell_type": "markdown",
      "metadata": {
        "id": "view-in-github",
        "colab_type": "text"
      },
      "source": [
        "<a href=\"https://colab.research.google.com/github/Swaleh-developer/CRUD-django-task/blob/main/llm-training-course/colab/finetuning.ipynb\" target=\"_parent\"><img src=\"https://colab.research.google.com/assets/colab-badge.svg\" alt=\"Open In Colab\"/></a>"
      ]
    },
    {
      "cell_type": "markdown",
      "id": "cELkt30NaJk_",
      "metadata": {
        "id": "cELkt30NaJk_"
      },
      "source": [
        "<a href=\"https://colab.research.google.com/github/wandb/edu/blob/main/llm-training-course/colab/finetuning.ipynb\" target=\"_parent\"><img src=\"https://colab.research.google.com/assets/colab-badge.svg\" alt=\"Open In Colab\"/></a>\n",
        "<!--- @wandbcode{llmtraining-colab} -->"
      ]
    },
    {
      "cell_type": "markdown",
      "id": "7693a36b-5cdc-4582-844b-8dd52fa522c5",
      "metadata": {
        "id": "7693a36b-5cdc-4582-844b-8dd52fa522c5"
      },
      "source": [
        "# Training a 3B Llama on instruction dataset with Weights & Biases, HuggingFace, LoRA and Quantization\n",
        "\n",
        "Tested on Google Colab V100 GPU. Check out [W&B HuggingFace documentation](https://docs.wandb.ai/guides/integrations/huggingface) for more details."
      ]
    },
    {
      "cell_type": "code",
      "execution_count": null,
      "id": "03ef319f-bf26-4192-8951-8d536181ab67",
      "metadata": {
        "id": "03ef319f-bf26-4192-8951-8d536181ab67",
        "tags": []
      },
      "outputs": [],
      "source": [
        "!python -m pip install -U wandb transformers trl datasets \"protobuf==3.20.3\" evaluate peft bitsandbytes accelerate sentencepiece -qqq"
      ]
    },
    {
      "cell_type": "code",
      "execution_count": null,
      "id": "D_x8mMbGKb67",
      "metadata": {
        "id": "D_x8mMbGKb67"
      },
      "outputs": [],
      "source": [
        "!wget https://github.com/wandb/edu/raw/main/llm-training-course/colab/utils.py"
      ]
    },
    {
      "cell_type": "markdown",
      "id": "da04c0a5-f481-4364-880d-10c254388987",
      "metadata": {
        "id": "da04c0a5-f481-4364-880d-10c254388987"
      },
      "source": [
        "Let's grab the Alpaca (GPT-4 curated instructions and outputs) dataset:"
      ]
    },
    {
      "cell_type": "code",
      "execution_count": null,
      "id": "a154f968-da0f-4bdc-bf45-e499d95f0606",
      "metadata": {
        "id": "a154f968-da0f-4bdc-bf45-e499d95f0606",
        "tags": []
      },
      "outputs": [],
      "source": [
        "import wandb\n",
        "wandb.init(project=\"alpaca_ft\", # the project I am working on\n",
        "           job_type=\"train\",\n",
        "           tags=[\"hf_sft_lora\", \"3b\"]) # the Hyperparameters I want to keep track of\n",
        "artifact = wandb.use_artifact('capecape/alpaca_ft/alpaca_gpt4_splitted:v4', type='dataset')\n",
        "artifact_dir = artifact.download()"
      ]
    },
    {
      "cell_type": "code",
      "execution_count": null,
      "id": "811291cc-b7ce-422a-8971-3cbf9fe10a7f",
      "metadata": {
        "id": "811291cc-b7ce-422a-8971-3cbf9fe10a7f",
        "tags": []
      },
      "outputs": [],
      "source": [
        "from datasets import load_dataset\n",
        "alpaca_ds = load_dataset(\"json\", data_dir=artifact_dir)"
      ]
    },
    {
      "cell_type": "code",
      "execution_count": null,
      "id": "Asdi_3G1EFsz",
      "metadata": {
        "id": "Asdi_3G1EFsz"
      },
      "outputs": [],
      "source": [
        "# Let's subsample the training and test dataset - you may want to switch to full dataset in your experiments\n",
        "alpaca_ds['train'] = alpaca_ds['train'].select(range(512))\n",
        "alpaca_ds['test'] = alpaca_ds['test'].select(range(10))"
      ]
    },
    {
      "cell_type": "markdown",
      "id": "26cb96e0-b2f2-4a79-ba65-e1c8d6395d54",
      "metadata": {
        "id": "26cb96e0-b2f2-4a79-ba65-e1c8d6395d54"
      },
      "source": [
        "Let's log the dataset also as a table so we can inspect it on the workspace."
      ]
    },
    {
      "cell_type": "code",
      "execution_count": null,
      "id": "5caaf114-3350-4570-b4d4-fb090399cc73",
      "metadata": {
        "id": "5caaf114-3350-4570-b4d4-fb090399cc73",
        "tags": []
      },
      "outputs": [],
      "source": [
        "def prompt_no_input(row):\n",
        "    return (\"Below is an instruction that describes a task. \"\n",
        "            \"Write a response that appropriately completes the request.\\n\\n\"\n",
        "            \"### Instruction:\\n{instruction}\\n\\n### Response:\\n{output}\").format_map(row)\n",
        "\n",
        "def prompt_input(row):\n",
        "    return (\"Below is an instruction that describes a task, paired with an input that provides further context. \"\n",
        "            \"Write a response that appropriately completes the request.\\n\\n\"\n",
        "            \"### Instruction:\\n{instruction}\\n\\n### Input:\\n{input}\\n\\n### Response:\\n{output}\").format_map(row)\n",
        "\n",
        "def create_prompt(row):\n",
        "    return prompt_no_input(row) if row[\"input\"] == \"\" else prompt_input(row)"
      ]
    },
    {
      "cell_type": "code",
      "execution_count": null,
      "id": "4c7dda87-d70a-470b-a0f9-040af434dc42",
      "metadata": {
        "id": "4c7dda87-d70a-470b-a0f9-040af434dc42",
        "tags": []
      },
      "outputs": [],
      "source": [
        "train_dataset = alpaca_ds[\"train\"]\n",
        "eval_dataset = alpaca_ds[\"test\"]"
      ]
    },
    {
      "cell_type": "code",
      "execution_count": null,
      "id": "720c707b-3bce-4164-b8c1-3c3122200c39",
      "metadata": {
        "id": "720c707b-3bce-4164-b8c1-3c3122200c39",
        "tags": []
      },
      "outputs": [],
      "source": [
        "import torch\n",
        "from transformers import AutoModelForCausalLM, AutoTokenizer"
      ]
    },
    {
      "cell_type": "code",
      "execution_count": null,
      "id": "4162aec8-f2ba-45db-9633-817b416d4e57",
      "metadata": {
        "id": "4162aec8-f2ba-45db-9633-817b416d4e57",
        "tags": []
      },
      "outputs": [],
      "source": [
        "model_id = 'openlm-research/open_llama_3b_v2'"
      ]
    },
    {
      "cell_type": "markdown",
      "id": "2duDODtwaWrA",
      "metadata": {
        "id": "2duDODtwaWrA"
      },
      "source": [
        "Let's define our configurations for LoRA, quantization and model training so that it fits on our GPU."
      ]
    },
    {
      "cell_type": "code",
      "execution_count": null,
      "id": "b8e625f5-e901-41e6-8045-0da0ad455728",
      "metadata": {
        "id": "b8e625f5-e901-41e6-8045-0da0ad455728"
      },
      "outputs": [],
      "source": [
        "from peft import LoraConfig, get_peft_model\n",
        "\n",
        "peft_config = LoraConfig(\n",
        "    r=64,  # the rank of the LoRA matrices\n",
        "    lora_alpha=16, # the weight\n",
        "    lora_dropout=0.1, # dropout to add to the LoRA layers\n",
        "    bias=\"none\", # add bias to the nn.Linear layers?\n",
        "    task_type=\"CAUSAL_LM\",\n",
        "    target_modules=[\"q_proj\", \"k_proj\",\"v_proj\",\"o_proj\"], # the name of the layers to add LoRA\n",
        ")"
      ]
    },
    {
      "cell_type": "code",
      "execution_count": null,
      "id": "_9n8JJ1ZE7RI",
      "metadata": {
        "id": "_9n8JJ1ZE7RI"
      },
      "outputs": [],
      "source": [
        "from transformers import BitsAndBytesConfig\n",
        "\n",
        "bnb_config = BitsAndBytesConfig(\n",
        "    load_in_4bit=True,\n",
        "    bnb_4bit_quant_type=\"nf4\",\n",
        "    bnb_4bit_use_double_quant=True,\n",
        "    bnb_4bit_compute_dtype=torch.float16\n",
        ")"
      ]
    },
    {
      "cell_type": "code",
      "execution_count": null,
      "id": "51c10f7f-2551-4aa4-aef2-29c888b57a12",
      "metadata": {
        "id": "51c10f7f-2551-4aa4-aef2-29c888b57a12",
        "tags": []
      },
      "outputs": [],
      "source": [
        "model_kwargs = dict(\n",
        "    device_map={\"\" : 0},\n",
        "    trust_remote_code=True,\n",
        "    # low_cpu_mem_usage=True,\n",
        "    torch_dtype=torch.float16,\n",
        "    # use_flash_attention_2=True,\n",
        "    use_cache=False,\n",
        "    quantization_config=bnb_config,\n",
        ")"
      ]
    },
    {
      "cell_type": "code",
      "execution_count": null,
      "id": "ac3525d7-3028-499e-8749-c6fbc21a26d5",
      "metadata": {
        "id": "ac3525d7-3028-499e-8749-c6fbc21a26d5",
        "tags": []
      },
      "outputs": [],
      "source": [
        "from transformers import TrainingArguments\n",
        "from trl import SFTTrainer"
      ]
    },
    {
      "cell_type": "code",
      "execution_count": null,
      "id": "1c78dee3-218a-4ee0-9883-f33209c4faaf",
      "metadata": {
        "id": "1c78dee3-218a-4ee0-9883-f33209c4faaf",
        "tags": []
      },
      "outputs": [],
      "source": [
        "batch_size = 2\n",
        "gradient_accumulation_steps = 16\n",
        "num_train_epochs = 1"
      ]
    },
    {
      "cell_type": "markdown",
      "id": "feb03a22-b31b-4250-bb2c-e51d43111623",
      "metadata": {
        "id": "feb03a22-b31b-4250-bb2c-e51d43111623"
      },
      "source": [
        "We'll add a `report_to=\"wandb\"` flag here to get the benefits of [W&B HuggingFace integration](https://docs.wandb.ai/guides/integrations/huggingface)."
      ]
    },
    {
      "cell_type": "code",
      "execution_count": null,
      "id": "c86339ca-27e5-496b-9559-3a65bb3c26a1",
      "metadata": {
        "id": "c86339ca-27e5-496b-9559-3a65bb3c26a1",
        "tags": []
      },
      "outputs": [],
      "source": [
        "output_dir = \"./output/\"\n",
        "training_args = TrainingArguments(\n",
        "    num_train_epochs=num_train_epochs,\n",
        "    output_dir=output_dir,\n",
        "    per_device_train_batch_size=batch_size,\n",
        "    per_device_eval_batch_size=batch_size,\n",
        "    fp16=True,\n",
        "    learning_rate=2e-4,\n",
        "    lr_scheduler_type=\"cosine\",\n",
        "    warmup_ratio=0.1,\n",
        "    gradient_accumulation_steps=gradient_accumulation_steps,\n",
        "    gradient_checkpointing=True,\n",
        "    gradient_checkpointing_kwargs=dict(use_reentrant=False),\n",
        "    evaluation_strategy=\"epoch\",\n",
        "    logging_strategy=\"steps\",\n",
        "    logging_steps=1,\n",
        "    save_strategy=\"epoch\",\n",
        "    report_to=\"wandb\",\n",
        ")"
      ]
    },
    {
      "cell_type": "code",
      "execution_count": null,
      "id": "e35a9b70-f36b-4bfd-857f-c80d3450e111",
      "metadata": {
        "id": "e35a9b70-f36b-4bfd-857f-c80d3450e111",
        "tags": []
      },
      "outputs": [],
      "source": [
        "from utils import LLMSampleCB\n",
        "\n",
        "trainer = SFTTrainer(\n",
        "    model=model_id,\n",
        "    model_init_kwargs=model_kwargs,\n",
        "    train_dataset=train_dataset,\n",
        "    eval_dataset=eval_dataset,\n",
        "    packing=True,\n",
        "    max_seq_length=1024,\n",
        "    args=training_args,\n",
        "    formatting_func=create_prompt,\n",
        "    peft_config=peft_config,\n",
        ")"
      ]
    },
    {
      "cell_type": "code",
      "execution_count": null,
      "id": "c0dbcb42-1e94-4f68-9edf-102f337ebf14",
      "metadata": {
        "id": "c0dbcb42-1e94-4f68-9edf-102f337ebf14",
        "tags": []
      },
      "outputs": [],
      "source": [
        "# remove answers\n",
        "def create_prompt_no_anwer(row):\n",
        "    row[\"output\"] = \"\"\n",
        "    return {\"text\": create_prompt(row)}\n",
        "\n",
        "test_dataset = eval_dataset.map(create_prompt_no_anwer)"
      ]
    },
    {
      "cell_type": "markdown",
      "id": "gPQmq3gsai0I",
      "metadata": {
        "id": "gPQmq3gsai0I"
      },
      "source": [
        "We will add a custom W&B callback to the trainer so that we can sample and log model generations in W&B dashboard. Review [W&B HuggingFace documentation](https://docs.wandb.ai/guides/integrations/huggingface) for the most up-to-date best practices."
      ]
    },
    {
      "cell_type": "code",
      "execution_count": null,
      "id": "9d6748da-bbc7-4962-bbc4-1650ff18aefe",
      "metadata": {
        "id": "9d6748da-bbc7-4962-bbc4-1650ff18aefe",
        "tags": []
      },
      "outputs": [],
      "source": [
        "wandb_callback = LLMSampleCB(trainer, test_dataset, num_samples=10, max_new_tokens=256)"
      ]
    },
    {
      "cell_type": "code",
      "execution_count": null,
      "id": "df6d1457-3c7a-47e6-994b-334dbe9c3d5e",
      "metadata": {
        "id": "df6d1457-3c7a-47e6-994b-334dbe9c3d5e",
        "tags": []
      },
      "outputs": [],
      "source": [
        "trainer.add_callback(wandb_callback)"
      ]
    },
    {
      "cell_type": "markdown",
      "id": "tA5MJVEDauaG",
      "metadata": {
        "id": "tA5MJVEDauaG"
      },
      "source": [
        "It's time to train!"
      ]
    },
    {
      "cell_type": "code",
      "execution_count": null,
      "id": "d5754789-2e15-4bc9-800c-01f8ffc625e8",
      "metadata": {
        "id": "d5754789-2e15-4bc9-800c-01f8ffc625e8",
        "tags": []
      },
      "outputs": [],
      "source": [
        "trainer.train()\n",
        "wandb.finish()"
      ]
    },
    {
      "cell_type": "markdown",
      "id": "69eb6dbe-5128-405c-aecc-5b2564930f55",
      "metadata": {
        "id": "69eb6dbe-5128-405c-aecc-5b2564930f55"
      },
      "source": [
        "Check out the sample generations in your W&B workspace. We've trained on a very small sample of dataset, so likely they won't be good. Try to improve this result! Train on a larger dataset, experiment with different hyperparameters and settings. Then share a W&B report with your results. Good luck!"
      ]
    },
    {
      "cell_type": "code",
      "execution_count": null,
      "id": "95a414b0-5a05-40f4-98ac-25c9717a7b84",
      "metadata": {
        "id": "95a414b0-5a05-40f4-98ac-25c9717a7b84"
      },
      "outputs": [],
      "source": []
    }
  ],
  "metadata": {
    "accelerator": "GPU",
    "colab": {
      "gpuType": "V100",
      "provenance": [],
      "include_colab_link": true
    },
    "kernelspec": {
      "display_name": "Python 3",
      "language": "python",
      "name": "python3"
    },
    "language_info": {
      "codemirror_mode": {
        "name": "ipython",
        "version": 3
      },
      "file_extension": ".py",
      "mimetype": "text/x-python",
      "name": "python",
      "nbconvert_exporter": "python",
      "pygments_lexer": "ipython3",
      "version": "3.8.13"
    }
  },
  "nbformat": 4,
  "nbformat_minor": 5
}